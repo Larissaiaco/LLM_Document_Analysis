{
 "cells": [
  {
   "cell_type": "code",
   "execution_count": 1,
   "id": "5fca77a2-93d7-4a8d-b8af-b9e59b6dd259",
   "metadata": {},
   "outputs": [],
   "source": [
    "import requests\n",
    "import json\n",
    "import time\n",
    "import csv\n",
    "import spacy\n",
    "from bs4 import BeautifulSoup\n",
    "import ollama"
   ]
  },
  {
   "cell_type": "code",
   "execution_count": 2,
   "id": "84756a28-147f-44e4-9472-859ea0828346",
   "metadata": {},
   "outputs": [],
   "source": [
    "# Load NLP model and set max length\n",
    "nlp = spacy.load(\"en_core_web_sm\")\n",
    "nlp.max_length = 1_500_000  # Avoid memory error\n",
    "\n",
    "# Function to get CIK from Ticker\n",
    "def get_cik_from_ticker(ticker):\n",
    "    url = \"https://www.sec.gov/files/company_tickers.json\"\n",
    "    headers = {\"User-Agent\": \"Larissa Iacobescu (la641245@ucf.edu)\"}  \n",
    "    \n",
    "    response = requests.get(url, headers=headers)\n",
    "    if response.status_code != 200:\n",
    "        print(f\"Error {response.status_code}: Could not fetch CIK.\")\n",
    "        return None\n",
    "\n",
    "    data = response.json()\n",
    "    ticker_to_cik = {str(info[\"ticker\"]).upper(): str(info[\"cik_str\"]).zfill(10) for info in data.values()}\n",
    "    \n",
    "    return ticker_to_cik.get(ticker.upper())"
   ]
  },
  {
   "cell_type": "code",
   "execution_count": 3,
   "id": "0cafbcdf-47a2-4308-95d9-5a541109ec74",
   "metadata": {},
   "outputs": [],
   "source": [
    "# Function to get 8-K Filings\n",
    "def get_8k_filings(cik, count=5):\n",
    "    url = f\"https://data.sec.gov/submissions/CIK{cik}.json\"\n",
    "    headers = {\"User-Agent\": \"Larissa Iacobescu (la641245@ucf.edu)\"}\n",
    "    \n",
    "    response = requests.get(url, headers=headers)\n",
    "    time.sleep(1)\n",
    "\n",
    "    if response.status_code != 200:\n",
    "        print(f\"Error {response.status_code}: Could not fetch filings.\")\n",
    "        return []\n",
    "\n",
    "    data = response.json()\n",
    "    if \"filings\" not in data or \"recent\" not in data[\"filings\"]:\n",
    "        print(\"Error: Invalid SEC data format.\")\n",
    "        return []\n",
    "\n",
    "    recent_filings = data[\"filings\"][\"recent\"]\n",
    "    filings = [\n",
    "        {\n",
    "            \"filing_date\": recent_filings[\"filingDate\"][i],\n",
    "            \"accession_number\": recent_filings[\"accessionNumber\"][i],\n",
    "            \"filing_url\": f\"https://www.sec.gov/Archives/edgar/data/{cik}/{recent_filings['accessionNumber'][i].replace('-', '')}/{recent_filings['accessionNumber'][i]}.txt\"\n",
    "        }\n",
    "        for i in range(len(recent_filings[\"form\"]))\n",
    "        if recent_filings[\"form\"][i] == \"8-K\"\n",
    "    ][:count]\n",
    "\n",
    "    return filings"
   ]
  },
  {
   "cell_type": "code",
   "execution_count": 4,
   "id": "45b8a178-98d2-4987-91c4-a4d4b0459a49",
   "metadata": {},
   "outputs": [],
   "source": [
    "# Function to fetch text from 8-K filing\n",
    "def fetch_filing_text(cik, accession_number):\n",
    "    url = f\"https://www.sec.gov/Archives/edgar/data/{cik}/{accession_number.replace('-', '')}/{accession_number}.txt\"\n",
    "    headers = {\"User-Agent\": \"Larissa Iacobescu (la641245@ucf.edu)\"}\n",
    "\n",
    "    response = requests.get(url, headers=headers)\n",
    "    time.sleep(1)\n",
    "\n",
    "    if response.status_code == 200:\n",
    "        return response.text\n",
    "    else:\n",
    "        print(f\"Error fetching filing {accession_number}: {response.status_code}\")\n",
    "        return None"
   ]
  },
  {
   "cell_type": "code",
   "execution_count": 5,
   "id": "32991a6e-1e7f-4751-9067-0323b01a130a",
   "metadata": {},
   "outputs": [],
   "source": [
    "# Function to extract entities (Company Name & Product) using NER\n",
    "def extract_entities(text, chunk_size=100000):\n",
    "    company_names = set()\n",
    "    product_names = set()\n",
    "\n",
    "    for i in range(0, len(text), chunk_size):\n",
    "        chunk = text[i:i+chunk_size]\n",
    "        doc = nlp(chunk)\n",
    "\n",
    "        for ent in doc.ents:\n",
    "            if ent.label_ == \"ORG\":\n",
    "                company_names.add(ent.text)\n",
    "            elif ent.label_ == \"PRODUCT\":\n",
    "                product_names.add(ent.text)\n",
    "\n",
    "    return (next(iter(company_names), None), next(iter(product_names), None))"
   ]
  },
  {
   "cell_type": "code",
   "execution_count": 6,
   "id": "e9abb011-0e3d-42c4-a7c9-b367229934f5",
   "metadata": {},
   "outputs": [],
   "source": [
    "# Function to summarize product description using DeepSeek\n",
    "def generate_summary(text):\n",
    "    prompt = f\"Summarize the following product description in less than 180 characters:\\n\\n{text}\"\n",
    "    \n",
    "    response = ollama.chat(model=\"deepseek-r1:1.5b\", messages=[{\"role\": \"user\", \"content\": prompt}])\n",
    "    \n",
    "    return response['message']['content'] if response else \"No summary available.\""
   ]
  },
  {
   "cell_type": "code",
   "execution_count": null,
   "id": "765c528c-9812-4d5a-bb41-f4ba21f02700",
   "metadata": {},
   "outputs": [],
   "source": [
    "# Function to save extracted data to CSV\n",
    "def save_to_csv(data, filename=\"sec_8k_filings2.csv\"):\n",
    "    with open(filename, mode=\"w\", newline=\"\", encoding=\"utf-8\") as file:\n",
    "        writer = csv.writer(file)\n",
    "        writer.writerow([\"Company Name\", \"Stock Name\", \"Filing Time\", \"New Product\", \"Product Description\"])\n",
    "        writer.writerows(data)\n",
    "\n",
    "# List of tickers\n",
    "tickers = [\"AAPL\", \"MSFT\", \"NVDA\", \"GOOGL\", \"AMZN\", \"TSLA\", \"META\", \"NFLX\", \"AMD\", \"INTC\", \n",
    "           \"ORCL\", \"IBM\", \"CSCO\", \"PYPL\", \"ADBE\", \"CRM\", \"UBER\", \"LYFT\", \"SNAP\", \"SQ\", \n",
    "           \"SHOP\", \"TWLO\", \"RBLX\", \"BABA\", \"DIS\", \"PEP\", \"KO\", \"MCD\", \"SBUX\", \"NKE\",\n",
    "           \"PFE\", \"JNJ\", \"MRNA\", \"LLY\", \"BMY\", \"GILD\", \"REGN\", \"CVS\", \"UNH\", \"VRTX\",\n",
    "           \"XOM\", \"CVX\", \"BP\", \"TTE\", \"COP\", \"SLB\", \"HAL\", \"F\", \"GM\", \"TSM\", \"ASML\",\n",
    "           \"QCOM\", \"AVGO\", \"TXN\", \"NXPI\", \"LRCX\", \"AMAT\", \"MU\", \"STX\", \"WDC\", \"V\",\n",
    "           \"MA\", \"AXP\", \"JPM\", \"GS\", \"BAC\", \"C\", \"MS\", \"WFC\", \"T\", \"VZ\", \"TMUS\",\n",
    "           \"BA\", \"LMT\", \"NOC\", \"RTX\", \"GD\", \"HON\", \"CAT\", \"DE\", \"MMM\", \"GE\",\n",
    "           \"PG\", \"CL\", \"KMB\", \"EL\", \"WMT\", \"TGT\", \"COST\", \"HD\", \"LOW\", \"BBY\", \"DG\", \"DLTR\"]\n",
    "\n",
    "# Processing multiple tickers\n",
    "structured_data = []\n",
    "\n",
    "for ticker in tickers[:100]:  # Limit to 100 tickers\n",
    "    cik = get_cik_from_ticker(ticker)\n",
    "    if not cik:\n",
    "        print(f\"Skipping {ticker}, CIK not found.\")\n",
    "        continue\n",
    "\n",
    "    filings = get_8k_filings(cik, count=5)\n",
    "    for filing in filings:\n",
    "        filing_text = fetch_filing_text(cik, filing[\"accession_number\"])\n",
    "        if not filing_text:\n",
    "            continue\n",
    "\n",
    "        company, product = extract_entities(filing_text)\n",
    "        if company and product:\n",
    "            summary = generate_summary(filing_text)\n",
    "            structured_data.append([company, ticker, filing[\"filing_date\"], product, summary])\n",
    "            print(f\"Extracted: {company} | {ticker} | {filing['filing_date']} | {product}\")"
   ]
  },
  {
   "cell_type": "code",
   "execution_count": null,
   "id": "1ef33873-1c04-439d-89a6-969abd9b5c27",
   "metadata": {},
   "outputs": [],
   "source": [
    "# Save to CSV\n",
    "save_to_csv(structured_data)\n",
    "print(\"CSV file saved\")"
   ]
  }
 ],
 "metadata": {
  "kernelspec": {
   "display_name": "Python 3 (ipykernel)",
   "language": "python",
   "name": "python3"
  },
  "language_info": {
   "codemirror_mode": {
    "name": "ipython",
    "version": 3
   },
   "file_extension": ".py",
   "mimetype": "text/x-python",
   "name": "python",
   "nbconvert_exporter": "python",
   "pygments_lexer": "ipython3",
   "version": "3.12.5"
  }
 },
 "nbformat": 4,
 "nbformat_minor": 5
}
